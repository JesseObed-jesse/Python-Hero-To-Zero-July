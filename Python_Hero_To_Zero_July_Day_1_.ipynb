{
  "nbformat": 4,
  "nbformat_minor": 0,
  "metadata": {
    "colab": {
      "name": "Python Hero To Zero July Day 1 .ipynb",
      "provenance": [],
      "collapsed_sections": [],
      "authorship_tag": "ABX9TyMvFwWEYp583Hp1t48hf337",
      "include_colab_link": true
    },
    "kernelspec": {
      "name": "python3",
      "display_name": "Python 3"
    },
    "language_info": {
      "name": "python"
    }
  },
  "cells": [
    {
      "cell_type": "markdown",
      "metadata": {
        "id": "view-in-github",
        "colab_type": "text"
      },
      "source": [
        "<a href=\"https://colab.research.google.com/github/JesseObed-jesse/Python-Hero-To-Zero-July/blob/main/Python_Hero_To_Zero_July_Day_1_.ipynb\" target=\"_parent\"><img src=\"https://colab.research.google.com/assets/colab-badge.svg\" alt=\"Open In Colab\"/></a>"
      ]
    },
    {
      "cell_type": "markdown",
      "metadata": {
        "id": "nuj7q3_tcl1O"
      },
      "source": [
        "Python **Hero** to **Zero** day 1 july 2021"
      ]
    },
    {
      "cell_type": "code",
      "metadata": {
        "colab": {
          "base_uri": "https://localhost:8080/",
          "height": 35
        },
        "id": "mqKyiazXojYa",
        "outputId": "bcad879f-6e3a-458d-8e58-ecc88e34ed74"
      },
      "source": [
        "\"\"\"Sort a list in desending order \"\"\""
      ],
      "execution_count": null,
      "outputs": [
        {
          "output_type": "execute_result",
          "data": {
            "application/vnd.google.colaboratory.intrinsic+json": {
              "type": "string"
            },
            "text/plain": [
              "'Sort a list in desending order '"
            ]
          },
          "metadata": {
            "tags": []
          },
          "execution_count": 27
        }
      ]
    },
    {
      "cell_type": "code",
      "metadata": {
        "id": "NPoLvvFZpHZj",
        "colab": {
          "base_uri": "https://localhost:8080/"
        },
        "outputId": "52ee1edf-746a-449d-8768-3d7360b95d80"
      },
      "source": [
        "List = [int(i) for i in input(\"Enter few number  : \").split()]\n",
        "List.reverse()\n",
        "print(List)"
      ],
      "execution_count": 7,
      "outputs": [
        {
          "output_type": "stream",
          "text": [
            "Enter few number  : 10 20 30 40 50 60\n",
            "[60, 50, 40, 30, 20, 10]\n"
          ],
          "name": "stdout"
        }
      ]
    },
    {
      "cell_type": "code",
      "metadata": {
        "id": "F-QT0zAgbVIT"
      },
      "source": [
        " "
      ],
      "execution_count": null,
      "outputs": []
    }
  ]
}