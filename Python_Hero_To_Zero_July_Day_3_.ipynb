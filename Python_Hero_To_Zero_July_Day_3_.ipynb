{
  "nbformat": 4,
  "nbformat_minor": 0,
  "metadata": {
    "colab": {
      "name": "Python Hero To Zero July Day 1 .ipynb",
      "provenance": [],
      "collapsed_sections": [],
      "authorship_tag": "ABX9TyO4zoFRMz0EGYoJQjPr50ca",
      "include_colab_link": true
    },
    "kernelspec": {
      "name": "python3",
      "display_name": "Python 3"
    },
    "language_info": {
      "name": "python"
    }
  },
  "cells": [
    {
      "cell_type": "markdown",
      "metadata": {
        "id": "view-in-github",
        "colab_type": "text"
      },
      "source": [
        "<a href=\"https://colab.research.google.com/github/JesseObed-jesse/Python-Hero-To-Zero-July/blob/main/Python_Hero_To_Zero_July_Day_3_.ipynb\" target=\"_parent\"><img src=\"https://colab.research.google.com/assets/colab-badge.svg\" alt=\"Open In Colab\"/></a>"
      ]
    },
    {
      "cell_type": "markdown",
      "metadata": {
        "id": "nuj7q3_tcl1O"
      },
      "source": [
        ""
      ]
    },
    {
      "cell_type": "code",
      "metadata": {
        "colab": {
          "base_uri": "https://localhost:8080/"
        },
        "id": "TBsIoVfTw-wW",
        "outputId": "14ddcb35-b8db-41ef-c1a2-4d2d18183e3d"
      },
      "source": [
        "# Python 3 code to demonstrate\n",
        "# the removal of all occurrences of a\n",
        "# given item using list comprehension\n",
        "\n",
        "def remove_items(test_list, item):\n",
        "\t\n",
        "\t# using list comprehension to perform the task\n",
        "\tres = [i for i in test_list if i != item]\n",
        "\n",
        "\treturn res\n",
        "\n",
        "# driver code\n",
        "if __name__==\"__main__\":\n",
        "\t\n",
        "\t# initializing the list\n",
        "\ttest_list = [1, 3, 4, 6, 5, 1]\n",
        "\n",
        "\t# the item which is to be removed\n",
        "\titem = 1\n",
        "\n",
        "\t# printing the original list\n",
        "\tprint (\"The original list is : \" + str(test_list))\n",
        "\n",
        "\t# calling the function remove_items()\n",
        "\tres = remove_items(test_list, item)\n",
        "\n",
        "\t# printing result\n",
        "\tprint (\"The list after performing the remove operation is : \" + str(res))\n"
      ],
      "execution_count": 8,
      "outputs": [
        {
          "output_type": "stream",
          "text": [
            "The original list is : [1, 3, 4, 6, 5, 1]\n",
            "The list after performing the remove operation is : [3, 4, 6, 5]\n"
          ],
          "name": "stdout"
        }
      ]
    },
    {
      "cell_type": "code",
      "metadata": {
        "id": "d7jcZmQ5zcpw"
      },
      "source": [
        ""
      ],
      "execution_count": null,
      "outputs": []
    }
  ]
}