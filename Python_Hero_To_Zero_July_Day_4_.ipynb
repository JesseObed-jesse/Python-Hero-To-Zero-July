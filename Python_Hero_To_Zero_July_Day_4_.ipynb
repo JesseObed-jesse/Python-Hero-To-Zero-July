{
  "nbformat": 4,
  "nbformat_minor": 0,
  "metadata": {
    "colab": {
      "name": "Python Hero To Zero July Day 1 .ipynb",
      "provenance": [],
      "collapsed_sections": [],
      "authorship_tag": "ABX9TyPXBewVihBsYR5v9z1yMjxr",
      "include_colab_link": true
    },
    "kernelspec": {
      "name": "python3",
      "display_name": "Python 3"
    },
    "language_info": {
      "name": "python"
    }
  },
  "cells": [
    {
      "cell_type": "markdown",
      "metadata": {
        "id": "view-in-github",
        "colab_type": "text"
      },
      "source": [
        "<a href=\"https://colab.research.google.com/github/JesseObed-jesse/Python-Hero-To-Zero-July/blob/main/Python_Hero_To_Zero_July_Day_4_.ipynb\" target=\"_parent\"><img src=\"https://colab.research.google.com/assets/colab-badge.svg\" alt=\"Open In Colab\"/></a>"
      ]
    },
    {
      "cell_type": "markdown",
      "metadata": {
        "id": "nuj7q3_tcl1O"
      },
      "source": [
        "Python **Hero** to **Zero** day 2 july 2021"
      ]
    },
    {
      "cell_type": "code",
      "metadata": {
        "id": "F-QT0zAgbVIT",
        "outputId": "0d230741-9cce-4dd9-b627-e81acd86d668",
        "colab": {
          "base_uri": "https://localhost:8080/"
        }
      },
      "source": [
        "print(\"chemist\")\n",
        "conversion = int(input(\"Which conversion do you want   1 for celsius 2 for frainite  : \"))\n",
        "\n",
        "if conversion == 1 :\n",
        "  print(\"You have selected the celsius and you want to convert it to frainite am I correct ??\")\n",
        "  true = input(\"true or false : \")\n",
        "  if true == \"true\":\n",
        "    number1 = int(input(\"enter the integer : \"))\n",
        "    celsius = (number1 * 1.8) + 32\n",
        "    print(f\"The value in farinite is {celsius}\")\n",
        "  else:\n",
        "    quit()\n",
        "if conversion == 2 :\n",
        "  print(\"You have selected the frainite and you want to convert it to celsius am I correct ??\")\n",
        "  true = input(\"true or false : \")\n",
        "  if true == \"true\":\n",
        "    number2 = int(input(\"enter the integer : \"))\n",
        "    frainite = (number2 / 1.8) - 32\n",
        "    print(f\"The value in farinite is {frainite}\")\n",
        "  else:\n",
        "    quit()  \n",
        "\n",
        "\n"
      ],
      "execution_count": 7,
      "outputs": [
        {
          "output_type": "stream",
          "text": [
            "chemist\n",
            "Which conversion do you want   1 for celsius 2 for frainite  : 1\n",
            "You have selected the celsius and you want to convert it to frainite am I correct ??\n",
            "true or false : true\n",
            "enter the integer : 2\n",
            "The value in farinite is 35.6\n"
          ],
          "name": "stdout"
        }
      ]
    },
    {
      "cell_type": "code",
      "metadata": {
        "id": "TBsIoVfTw-wW"
      },
      "source": [
        ""
      ],
      "execution_count": null,
      "outputs": []
    }
  ]
}